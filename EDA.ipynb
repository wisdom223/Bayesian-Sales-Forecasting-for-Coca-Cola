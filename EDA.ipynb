{
 "cells": [
  {
   "cell_type": "code",
   "execution_count": null,
   "id": "391faa81-ef64-422e-a11c-f94549fe8d1f",
   "metadata": {},
   "outputs": [],
   "source": [
    "# Quick look\n",
    "display(df.head())\n",
    "print(df[[\"sales_in_crates\", \"promotion_done\", \"holidays\", \"season\"]].describe())\n",
    "# 1) Distribution of sales\n",
    "plt.figure(figsize=(12,7))\n",
    "sns.histplot(df['sales_in_crates'], kde=True, bins=20)\n",
    "plt.title(\"Distribution of Sales (crates)\")\n",
    "plt.xlabel(\"Sales (crates)\")\n",
    "plt.ylabel(\"Frequency\")\n",
    "plt.show()\n",
    "# 2) Sales trend over time\n",
    "plt.figure(figsize=(10,6))\n",
    "sns.lineplot(data=df, x='date', y='sales_in_crates', marker='o')\n",
    "plt.title(\"Sales Trend Over Time\")\n",
    "plt.xlabel(\"Date\")\n",
    "plt.ylabel(\"Sales (crates)\")\n",
    "plt.xticks(rotation=45)\n",
    "plt.tight_layout()\n",
    "plt.show()\n",
    "# 3) Average sales by month (to illustrate seasonality)\n",
    "monthly_mean = df.groupby('month')['sales_in_crates'].mean().reset_index()\n",
    "plt.figure(figsize=(8,5))\n",
    "sns.barplot(data=monthly_mean, x='month', y='sales_in_crates')\n",
    "plt.title(\"Average Sales by Month\")\n",
    "plt.xlabel(\"Month\")\n",
    "plt.ylabel(\"Average Sales (crates)\")\n",
    "plt.show()\n",
    "# 4) Promotion effect (boxplot)\n",
    "plt.figure(figsize=(7,4))\n",
    "sns.boxplot(data=df, x='promotion_done', y='sales_in_crates')\n",
    "plt.title(\"Sales: Promotion vs No Promotion\")\n",
    "plt.xlabel(\"Promotion Done (0 = No, 1 = Yes)\")\n",
    "plt.ylabel(\"Sales (crates)\")\n",
    "plt.show()\n",
    "# 5) Holiday effect (boxplot)\n",
    "plt.figure(figsize=(7,4))\n",
    "sns.boxplot(data=df, x='holidays', y='sales_in_crates')\n",
    "plt.title(\"Sales: Holiday vs Non-Holiday\")\n",
    "plt.xlabel(\"Holiday (0 = No, 1 = Yes)\")\n",
    "plt.ylabel(\"Sales (crates)\")\n",
    "plt.show()\n",
    "\n",
    "# 6) Correlation matrix for features + target\n",
    "corr_df = df[features + ['sales_in_crates']].corr()\n",
    "plt.figure(figsize=(8,5))\n",
    "sns.heatmap(corr_df, annot=True, fmt=\".2f\", cmap='coolwarm', vmin=-1, vmax=1)\n",
    "plt.title(\"Correlation Matrix\")\n",
    "plt.tight_layout()\n",
    "plt.show()"
   ]
  }
 ],
 "metadata": {
  "kernelspec": {
   "display_name": "Python [conda env:base] *",
   "language": "python",
   "name": "conda-base-py"
  },
  "language_info": {
   "codemirror_mode": {
    "name": "ipython",
    "version": 3
   },
   "file_extension": ".py",
   "mimetype": "text/x-python",
   "name": "python",
   "nbconvert_exporter": "python",
   "pygments_lexer": "ipython3",
   "version": "3.12.7"
  }
 },
 "nbformat": 4,
 "nbformat_minor": 5
}
