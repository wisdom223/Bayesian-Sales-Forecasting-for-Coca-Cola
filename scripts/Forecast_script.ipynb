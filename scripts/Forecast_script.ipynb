{
 "cells": [
  {
   "cell_type": "code",
   "execution_count": null,
   "id": "85088aef-784a-4531-a36b-d9a2f11e3fa3",
   "metadata": {},
   "outputs": [],
   "source": [
    "# Forecasting sales for the next 12 months ---\n",
    "\n",
    "# Defining the forecasting horizon: number of future months to be predicted\n",
    "future_months = 12\n",
    "\n",
    "\n",
    "last_date = df['date'].max()\n",
    "\n",
    "\n",
    "future_dates = pd.date_range(last_date + pd.DateOffset(months=1), periods=future_months, freq='MS')\n",
    "\n",
    "# Creating a new DataFrame for the future periods with relevant predictor variables\n",
    "# Here, 'promotion_done' and 'holidays' are specified as assumed future conditions\n",
    "future_df = pd.DataFrame({\n",
    "    'date': future_dates,\n",
    "    'promotion_done': [1, 0, 1, 0, 0, 0, 0, 1, 1, 1, 1, 1],  # Assumed promotion schedule\n",
    "    'holidays': [0, 0, 0, 1, 1, 1, 1, 0, 0, 0, 0, 0]          # Assumed holiday indicators\n",
    "})\n",
    "\n",
    "future_df['month'] = future_df['date'].dt.month\n",
    "future_df['season'] = future_df['month'].isin([4, 5, 6, 7, 8]).astype(int)\n",
    "future_df['sin_month'] = np.sin(2 * np.pi * future_df['month'] / 12)\n",
    "future_df['cos_month'] = np.cos(2 * np.pi * future_df['month'] / 12)\n",
    "\n",
    "X_future = future_df[features]\n",
    "X_future_scaled = scaler.transform(X_future)\n",
    "\n",
    "with model:\n",
    "    pm.set_data({\"X\": X_future_scaled})\n",
    "    future_preds = pm.sample_posterior_predictive(trace, var_names=[\"mu\"], random_seed=42)\n",
    "#Forecast summary statistics \n",
    "mu_samples = future_preds.posterior_predictive[\"mu\"]\n",
    "mu_samples_combined = mu_samples.stack(sample=(\"chain\", \"draw\")).transpose(\"sample\", \"mu_dim_0\").values\n",
    "forecast_samples = pd.DataFrame(mu_samples_combined, columns=future_df[\"date\"].dt.strftime(\"%Y-%m\"))\n",
    "\n",
    "future_df[\"median\"] = np.median(mu_samples_combined, axis=0)\n",
    "future_df[\"q5\"] = np.quantile(mu_samples_combined, 0.05, axis=0)\n",
    "future_df[\"q95\"] = np.quantile(mu_samples_combined, 0.95, axis=0)\n",
    "future_df[\"mean\"] = forecast_samples.mean(axis=0).values\n",
    "future_df[\"std\"] = forecast_samples.std(axis=0).values"
   ]
  }
 ],
 "metadata": {
  "kernelspec": {
   "display_name": "Python [conda env:base] *",
   "language": "python",
   "name": "conda-base-py"
  },
  "language_info": {
   "name": ""
  }
 },
 "nbformat": 4,
 "nbformat_minor": 5
}
