{
 "cells": [
  {
   "cell_type": "code",
   "execution_count": null,
   "id": "6b18b5a4-6957-4ecc-9a07-381c541674fe",
   "metadata": {},
   "outputs": [],
   "source": [
    "\n",
    "# importing all the necessary libraries for data preprocessing, analysis and visualization\n",
    "import pymc as pm                         #for Probabilistic programming for Bayesian modeling\n",
    "import pandas as pd                      # for Data manipulation and analysis\n",
    "import numpy as np                       # for Numerical operations and array handling\n",
    "import matplotlib.pyplot as plt          # for Visualization and plotting\n",
    "import arviz as az                       # for Diagnostics and visualization of Bayesian inference\n",
    "from sklearn.preprocessing import StandardScaler  # Feature standardization\n",
    "from sklearn.metrics import mean_absolute_error, mean_squared_error, r2_score  # Model evaluation metrics\n",
    "import seaborn as sns\n",
    "# Load dataset\n",
    "df = pd.read_excel(\"Sales_data.xlsx\", sheet_name=\"OutletA\")\n",
    "\n",
    "# Convert date column and extract month\n",
    "df['date'] = pd.to_datetime(df['date'])\n",
    "df['month'] = df['date'].dt.month\n",
    "\n",
    "# Encode cyclical features\n",
    "df['sin_month'] = np.sin(2 * np.pi * df['month'] / 12)\n",
    "df['cos_month'] = np.cos(2 * np.pi * df['month'] / 12)\n",
    "\n",
    "# Create seasonal indicator for peak months (April-August)\n",
    "df['season'] = df['month'].isin([4,5,6,7,8]).astype(int)\n",
    "\n",
    "# Select features and target variable\n",
    "features = ['promotion_done', 'holidays', 'season', 'sin_month', 'cos_month']\n",
    "X = df[features]\n",
    "y = df['sales_in_crates']\n",
    "\n",
    "# Split into training and test sets\n",
    "train_df = df.iloc[:-3]\n",
    "test_df = df.iloc[-3:]\n",
    "X_train = train_df[features]\n",
    "X_test = test_df[features]\n",
    "y_train = train_df['sales_in_crates']\n",
    "y_test = test_df['sales_in_crates']\n",
    "\n",
    "# Scale predictor variables\n",
    "scaler = StandardScaler()\n",
    "X_train_scaled = scaler.fit_transform(X_train)\n",
    "X_test_scaled = scaler.transform(X_test)\n"
   ]
  }
 ],
 "metadata": {
  "kernelspec": {
   "display_name": "Python [conda env:base] *",
   "language": "python",
   "name": "conda-base-py"
  },
  "language_info": {
   "codemirror_mode": {
    "name": "ipython",
    "version": 3
   },
   "file_extension": ".py",
   "mimetype": "text/x-python",
   "name": "python",
   "nbconvert_exporter": "python",
   "pygments_lexer": "ipython3",
   "version": "3.12.7"
  }
 },
 "nbformat": 4,
 "nbformat_minor": 5
}
